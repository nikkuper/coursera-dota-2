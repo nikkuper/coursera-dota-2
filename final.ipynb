{
 "cells": [
  {
   "cell_type": "code",
   "execution_count": 1,
   "metadata": {},
   "outputs": [],
   "source": [
    "import pandas as pd\n",
    "import numpy as np\n",
    "import time"
   ]
  },
  {
   "cell_type": "code",
   "execution_count": 2,
   "metadata": {},
   "outputs": [],
   "source": [
    "from sklearn.model_selection import KFold, cross_val_score\n",
    "from sklearn.ensemble import GradientBoostingClassifier\n",
    "from sklearn.linear_model import LogisticRegression\n",
    "from sklearn.preprocessing import StandardScaler"
   ]
  },
  {
   "cell_type": "markdown",
   "metadata": {},
   "source": [
    "# Подход 1: градиентный бустинг \"в лоб\""
   ]
  },
  {
   "cell_type": "markdown",
   "metadata": {},
   "source": [
    "1. Считайте таблицу с признаками из файла features.csv с помощью кода, приведенного выше. Удалите признаки, связанные с итогами матча (они помечены в описании данных как отсутствующие в тестовой выборке)."
   ]
  },
  {
   "cell_type": "code",
   "execution_count": 3,
   "metadata": {},
   "outputs": [
    {
     "data": {
      "text/html": [
       "<div>\n",
       "<style scoped>\n",
       "    .dataframe tbody tr th:only-of-type {\n",
       "        vertical-align: middle;\n",
       "    }\n",
       "\n",
       "    .dataframe tbody tr th {\n",
       "        vertical-align: top;\n",
       "    }\n",
       "\n",
       "    .dataframe thead th {\n",
       "        text-align: right;\n",
       "    }\n",
       "</style>\n",
       "<table border=\"1\" class=\"dataframe\">\n",
       "  <thead>\n",
       "    <tr style=\"text-align: right;\">\n",
       "      <th></th>\n",
       "      <th>start_time</th>\n",
       "      <th>lobby_type</th>\n",
       "      <th>r1_hero</th>\n",
       "      <th>r1_level</th>\n",
       "      <th>r1_xp</th>\n",
       "      <th>r1_gold</th>\n",
       "      <th>r1_lh</th>\n",
       "      <th>r1_kills</th>\n",
       "      <th>r1_deaths</th>\n",
       "      <th>r1_items</th>\n",
       "      <th>...</th>\n",
       "      <th>radiant_ward_sentry_count</th>\n",
       "      <th>radiant_first_ward_time</th>\n",
       "      <th>dire_bottle_time</th>\n",
       "      <th>dire_courier_time</th>\n",
       "      <th>dire_flying_courier_time</th>\n",
       "      <th>dire_tpscroll_count</th>\n",
       "      <th>dire_boots_count</th>\n",
       "      <th>dire_ward_observer_count</th>\n",
       "      <th>dire_ward_sentry_count</th>\n",
       "      <th>dire_first_ward_time</th>\n",
       "    </tr>\n",
       "  </thead>\n",
       "  <tbody>\n",
       "    <tr>\n",
       "      <th>0</th>\n",
       "      <td>1430198770</td>\n",
       "      <td>7</td>\n",
       "      <td>11</td>\n",
       "      <td>5</td>\n",
       "      <td>2098</td>\n",
       "      <td>1489</td>\n",
       "      <td>20</td>\n",
       "      <td>0</td>\n",
       "      <td>0</td>\n",
       "      <td>7</td>\n",
       "      <td>...</td>\n",
       "      <td>0</td>\n",
       "      <td>35.0</td>\n",
       "      <td>103.0</td>\n",
       "      <td>-84.0</td>\n",
       "      <td>221.0</td>\n",
       "      <td>3</td>\n",
       "      <td>4</td>\n",
       "      <td>2</td>\n",
       "      <td>2</td>\n",
       "      <td>-52.0</td>\n",
       "    </tr>\n",
       "    <tr>\n",
       "      <th>1</th>\n",
       "      <td>1430220345</td>\n",
       "      <td>0</td>\n",
       "      <td>42</td>\n",
       "      <td>4</td>\n",
       "      <td>1188</td>\n",
       "      <td>1033</td>\n",
       "      <td>9</td>\n",
       "      <td>0</td>\n",
       "      <td>1</td>\n",
       "      <td>12</td>\n",
       "      <td>...</td>\n",
       "      <td>0</td>\n",
       "      <td>-20.0</td>\n",
       "      <td>149.0</td>\n",
       "      <td>-84.0</td>\n",
       "      <td>195.0</td>\n",
       "      <td>5</td>\n",
       "      <td>4</td>\n",
       "      <td>3</td>\n",
       "      <td>1</td>\n",
       "      <td>-5.0</td>\n",
       "    </tr>\n",
       "    <tr>\n",
       "      <th>2</th>\n",
       "      <td>1430227081</td>\n",
       "      <td>7</td>\n",
       "      <td>33</td>\n",
       "      <td>4</td>\n",
       "      <td>1319</td>\n",
       "      <td>1270</td>\n",
       "      <td>22</td>\n",
       "      <td>0</td>\n",
       "      <td>0</td>\n",
       "      <td>12</td>\n",
       "      <td>...</td>\n",
       "      <td>1</td>\n",
       "      <td>-39.0</td>\n",
       "      <td>45.0</td>\n",
       "      <td>-77.0</td>\n",
       "      <td>221.0</td>\n",
       "      <td>3</td>\n",
       "      <td>4</td>\n",
       "      <td>3</td>\n",
       "      <td>1</td>\n",
       "      <td>13.0</td>\n",
       "    </tr>\n",
       "    <tr>\n",
       "      <th>3</th>\n",
       "      <td>1430263531</td>\n",
       "      <td>1</td>\n",
       "      <td>29</td>\n",
       "      <td>4</td>\n",
       "      <td>1779</td>\n",
       "      <td>1056</td>\n",
       "      <td>14</td>\n",
       "      <td>0</td>\n",
       "      <td>0</td>\n",
       "      <td>5</td>\n",
       "      <td>...</td>\n",
       "      <td>0</td>\n",
       "      <td>-30.0</td>\n",
       "      <td>124.0</td>\n",
       "      <td>-80.0</td>\n",
       "      <td>184.0</td>\n",
       "      <td>0</td>\n",
       "      <td>4</td>\n",
       "      <td>2</td>\n",
       "      <td>0</td>\n",
       "      <td>27.0</td>\n",
       "    </tr>\n",
       "    <tr>\n",
       "      <th>4</th>\n",
       "      <td>1430282290</td>\n",
       "      <td>7</td>\n",
       "      <td>13</td>\n",
       "      <td>4</td>\n",
       "      <td>1431</td>\n",
       "      <td>1090</td>\n",
       "      <td>8</td>\n",
       "      <td>1</td>\n",
       "      <td>0</td>\n",
       "      <td>8</td>\n",
       "      <td>...</td>\n",
       "      <td>0</td>\n",
       "      <td>46.0</td>\n",
       "      <td>182.0</td>\n",
       "      <td>-80.0</td>\n",
       "      <td>225.0</td>\n",
       "      <td>6</td>\n",
       "      <td>3</td>\n",
       "      <td>3</td>\n",
       "      <td>0</td>\n",
       "      <td>-16.0</td>\n",
       "    </tr>\n",
       "    <tr>\n",
       "      <th>...</th>\n",
       "      <td>...</td>\n",
       "      <td>...</td>\n",
       "      <td>...</td>\n",
       "      <td>...</td>\n",
       "      <td>...</td>\n",
       "      <td>...</td>\n",
       "      <td>...</td>\n",
       "      <td>...</td>\n",
       "      <td>...</td>\n",
       "      <td>...</td>\n",
       "      <td>...</td>\n",
       "      <td>...</td>\n",
       "      <td>...</td>\n",
       "      <td>...</td>\n",
       "      <td>...</td>\n",
       "      <td>...</td>\n",
       "      <td>...</td>\n",
       "      <td>...</td>\n",
       "      <td>...</td>\n",
       "      <td>...</td>\n",
       "      <td>...</td>\n",
       "    </tr>\n",
       "    <tr>\n",
       "      <th>97225</th>\n",
       "      <td>1450265551</td>\n",
       "      <td>1</td>\n",
       "      <td>47</td>\n",
       "      <td>4</td>\n",
       "      <td>1706</td>\n",
       "      <td>1198</td>\n",
       "      <td>17</td>\n",
       "      <td>0</td>\n",
       "      <td>1</td>\n",
       "      <td>8</td>\n",
       "      <td>...</td>\n",
       "      <td>0</td>\n",
       "      <td>-29.0</td>\n",
       "      <td>180.0</td>\n",
       "      <td>-76.0</td>\n",
       "      <td>180.0</td>\n",
       "      <td>3</td>\n",
       "      <td>4</td>\n",
       "      <td>3</td>\n",
       "      <td>0</td>\n",
       "      <td>-24.0</td>\n",
       "    </tr>\n",
       "    <tr>\n",
       "      <th>97226</th>\n",
       "      <td>1450277704</td>\n",
       "      <td>0</td>\n",
       "      <td>43</td>\n",
       "      <td>4</td>\n",
       "      <td>1793</td>\n",
       "      <td>1416</td>\n",
       "      <td>17</td>\n",
       "      <td>0</td>\n",
       "      <td>1</td>\n",
       "      <td>5</td>\n",
       "      <td>...</td>\n",
       "      <td>0</td>\n",
       "      <td>-5.0</td>\n",
       "      <td>NaN</td>\n",
       "      <td>-82.0</td>\n",
       "      <td>NaN</td>\n",
       "      <td>4</td>\n",
       "      <td>3</td>\n",
       "      <td>2</td>\n",
       "      <td>0</td>\n",
       "      <td>-17.0</td>\n",
       "    </tr>\n",
       "    <tr>\n",
       "      <th>97227</th>\n",
       "      <td>1450291848</td>\n",
       "      <td>1</td>\n",
       "      <td>98</td>\n",
       "      <td>4</td>\n",
       "      <td>1399</td>\n",
       "      <td>540</td>\n",
       "      <td>1</td>\n",
       "      <td>0</td>\n",
       "      <td>0</td>\n",
       "      <td>5</td>\n",
       "      <td>...</td>\n",
       "      <td>2</td>\n",
       "      <td>-32.0</td>\n",
       "      <td>249.0</td>\n",
       "      <td>-70.0</td>\n",
       "      <td>NaN</td>\n",
       "      <td>1</td>\n",
       "      <td>1</td>\n",
       "      <td>3</td>\n",
       "      <td>1</td>\n",
       "      <td>-15.0</td>\n",
       "    </tr>\n",
       "    <tr>\n",
       "      <th>97228</th>\n",
       "      <td>1450292986</td>\n",
       "      <td>1</td>\n",
       "      <td>100</td>\n",
       "      <td>3</td>\n",
       "      <td>1135</td>\n",
       "      <td>766</td>\n",
       "      <td>6</td>\n",
       "      <td>0</td>\n",
       "      <td>2</td>\n",
       "      <td>6</td>\n",
       "      <td>...</td>\n",
       "      <td>0</td>\n",
       "      <td>-21.0</td>\n",
       "      <td>254.0</td>\n",
       "      <td>-85.0</td>\n",
       "      <td>183.0</td>\n",
       "      <td>5</td>\n",
       "      <td>3</td>\n",
       "      <td>3</td>\n",
       "      <td>1</td>\n",
       "      <td>-42.0</td>\n",
       "    </tr>\n",
       "    <tr>\n",
       "      <th>97229</th>\n",
       "      <td>1450313370</td>\n",
       "      <td>7</td>\n",
       "      <td>50</td>\n",
       "      <td>3</td>\n",
       "      <td>1053</td>\n",
       "      <td>799</td>\n",
       "      <td>7</td>\n",
       "      <td>0</td>\n",
       "      <td>0</td>\n",
       "      <td>7</td>\n",
       "      <td>...</td>\n",
       "      <td>0</td>\n",
       "      <td>-36.0</td>\n",
       "      <td>131.0</td>\n",
       "      <td>-59.0</td>\n",
       "      <td>NaN</td>\n",
       "      <td>5</td>\n",
       "      <td>3</td>\n",
       "      <td>2</td>\n",
       "      <td>0</td>\n",
       "      <td>-39.0</td>\n",
       "    </tr>\n",
       "  </tbody>\n",
       "</table>\n",
       "<p>97230 rows × 102 columns</p>\n",
       "</div>"
      ],
      "text/plain": [
       "       start_time  lobby_type  r1_hero  r1_level  r1_xp  r1_gold  r1_lh  \\\n",
       "0      1430198770           7       11         5   2098     1489     20   \n",
       "1      1430220345           0       42         4   1188     1033      9   \n",
       "2      1430227081           7       33         4   1319     1270     22   \n",
       "3      1430263531           1       29         4   1779     1056     14   \n",
       "4      1430282290           7       13         4   1431     1090      8   \n",
       "...           ...         ...      ...       ...    ...      ...    ...   \n",
       "97225  1450265551           1       47         4   1706     1198     17   \n",
       "97226  1450277704           0       43         4   1793     1416     17   \n",
       "97227  1450291848           1       98         4   1399      540      1   \n",
       "97228  1450292986           1      100         3   1135      766      6   \n",
       "97229  1450313370           7       50         3   1053      799      7   \n",
       "\n",
       "       r1_kills  r1_deaths  r1_items  ...  radiant_ward_sentry_count  \\\n",
       "0             0          0         7  ...                          0   \n",
       "1             0          1        12  ...                          0   \n",
       "2             0          0        12  ...                          1   \n",
       "3             0          0         5  ...                          0   \n",
       "4             1          0         8  ...                          0   \n",
       "...         ...        ...       ...  ...                        ...   \n",
       "97225         0          1         8  ...                          0   \n",
       "97226         0          1         5  ...                          0   \n",
       "97227         0          0         5  ...                          2   \n",
       "97228         0          2         6  ...                          0   \n",
       "97229         0          0         7  ...                          0   \n",
       "\n",
       "       radiant_first_ward_time  dire_bottle_time  dire_courier_time  \\\n",
       "0                         35.0             103.0              -84.0   \n",
       "1                        -20.0             149.0              -84.0   \n",
       "2                        -39.0              45.0              -77.0   \n",
       "3                        -30.0             124.0              -80.0   \n",
       "4                         46.0             182.0              -80.0   \n",
       "...                        ...               ...                ...   \n",
       "97225                    -29.0             180.0              -76.0   \n",
       "97226                     -5.0               NaN              -82.0   \n",
       "97227                    -32.0             249.0              -70.0   \n",
       "97228                    -21.0             254.0              -85.0   \n",
       "97229                    -36.0             131.0              -59.0   \n",
       "\n",
       "       dire_flying_courier_time  dire_tpscroll_count  dire_boots_count  \\\n",
       "0                         221.0                    3                 4   \n",
       "1                         195.0                    5                 4   \n",
       "2                         221.0                    3                 4   \n",
       "3                         184.0                    0                 4   \n",
       "4                         225.0                    6                 3   \n",
       "...                         ...                  ...               ...   \n",
       "97225                     180.0                    3                 4   \n",
       "97226                       NaN                    4                 3   \n",
       "97227                       NaN                    1                 1   \n",
       "97228                     183.0                    5                 3   \n",
       "97229                       NaN                    5                 3   \n",
       "\n",
       "       dire_ward_observer_count  dire_ward_sentry_count  dire_first_ward_time  \n",
       "0                             2                       2                 -52.0  \n",
       "1                             3                       1                  -5.0  \n",
       "2                             3                       1                  13.0  \n",
       "3                             2                       0                  27.0  \n",
       "4                             3                       0                 -16.0  \n",
       "...                         ...                     ...                   ...  \n",
       "97225                         3                       0                 -24.0  \n",
       "97226                         2                       0                 -17.0  \n",
       "97227                         3                       1                 -15.0  \n",
       "97228                         3                       1                 -42.0  \n",
       "97229                         2                       0                 -39.0  \n",
       "\n",
       "[97230 rows x 102 columns]"
      ]
     },
     "execution_count": 3,
     "metadata": {},
     "output_type": "execute_result"
    }
   ],
   "source": [
    "df = pd.read_csv('features.zip', index_col='match_id')\n",
    "end_game_features = ['duration', 'radiant_win', 'tower_status_radiant', 'tower_status_dire',\n",
    "         'barracks_status_radiant', 'barracks_status_dire']\n",
    "y = df['radiant_win']\n",
    "X = df.drop(end_game_features, axis=1).reset_index().drop('match_id', axis=1)\n",
    "X"
   ]
  },
  {
   "cell_type": "markdown",
   "metadata": {},
   "source": [
    "2. Проверьте выборку на наличие пропусков с помощью функции count(), которая для каждого столбца показывает число заполненных значений. Много ли пропусков в данных? Запишите названия признаков, имеющих пропуски, и попробуйте для любых двух из них дать обоснование, почему их значения могут быть пропущены."
   ]
  },
  {
   "cell_type": "code",
   "execution_count": 4,
   "metadata": {},
   "outputs": [
    {
     "data": {
      "text/plain": [
       "['first_blood_time',\n",
       " 'first_blood_team',\n",
       " 'first_blood_player1',\n",
       " 'first_blood_player2',\n",
       " 'radiant_bottle_time',\n",
       " 'radiant_courier_time',\n",
       " 'radiant_flying_courier_time',\n",
       " 'radiant_first_ward_time',\n",
       " 'dire_bottle_time',\n",
       " 'dire_courier_time',\n",
       " 'dire_flying_courier_time',\n",
       " 'dire_first_ward_time']"
      ]
     },
     "execution_count": 4,
     "metadata": {},
     "output_type": "execute_result"
    }
   ],
   "source": [
    "missed_columns = [i for i in X.columns if X.count()[i] != len(X)]\n",
    "missed_columns"
   ]
  },
  {
   "cell_type": "markdown",
   "metadata": {},
   "source": [
    "3. Замените пропуски на нули с помощью функции fillna(). На самом деле этот способ является предпочтительным для логистической регрессии, поскольку он позволит пропущенному значению не вносить никакого вклада в предсказание. Для деревьев часто лучшим вариантом оказывается замена пропуска на очень большое или очень маленькое значение — в этом случае при построении разбиения вершины можно будет отправить объекты с пропусками в отдельную ветвь дерева. Также есть и другие подходы — например, замена пропуска на среднее значение признака. Мы не требуем этого в задании, но при желании попробуйте разные подходы к обработке пропусков и сравните их между собой."
   ]
  },
  {
   "cell_type": "code",
   "execution_count": 5,
   "metadata": {},
   "outputs": [],
   "source": [
    "X.fillna(0, inplace=True)"
   ]
  },
  {
   "cell_type": "markdown",
   "metadata": {},
   "source": [
    "4. Какой столбец содержит целевую переменную? Запишите его название."
   ]
  },
  {
   "cell_type": "code",
   "execution_count": 6,
   "metadata": {},
   "outputs": [
    {
     "data": {
      "text/plain": [
       "'radiant_win'"
      ]
     },
     "execution_count": 6,
     "metadata": {},
     "output_type": "execute_result"
    }
   ],
   "source": [
    "'radiant_win'"
   ]
  },
  {
   "cell_type": "markdown",
   "metadata": {},
   "source": [
    "5. Забудем, что в выборке есть категориальные признаки, и попробуем обучить градиентный бустинг над деревьями на имеющейся матрице \"объекты-признаки\". Зафиксируйте генератор разбиений для кросс-валидации по 5 блокам (KFold), не забудьте перемешать при этом выборку (shuffle=True), поскольку данные в таблице отсортированы по времени, и без перемешивания можно столкнуться с нежелательными эффектами при оценивании качества. Оцените качество градиентного бустинга (GradientBoostingClassifier) с помощью данной кросс-валидации, попробуйте при этом разное количество деревьев (как минимум протестируйте следующие значения для количества деревьев: 10, 20, 30). Долго ли настраивались классификаторы? Достигнут ли оптимум на испытанных значениях параметра n_estimators, или же качество, скорее всего, продолжит расти при дальнейшем его увеличении?"
   ]
  },
  {
   "cell_type": "code",
   "execution_count": 7,
   "metadata": {},
   "outputs": [],
   "source": [
    "kf = KFold(n_splits=5, shuffle=True, random_state=0)"
   ]
  },
  {
   "cell_type": "code",
   "execution_count": 8,
   "metadata": {},
   "outputs": [
    {
     "name": "stdout",
     "output_type": "stream",
     "text": [
      "n_estimators=10\t roc_auc=0.6637173759568478\t time=52.36s\n",
      "n_estimators=20\t roc_auc=0.681722162516617\t time=95.49s\n",
      "n_estimators=30\t roc_auc=0.688614862673372\t time=148.78s\n",
      "n_estimators=40\t roc_auc=0.6934400126999827\t time=185.28s\n",
      "n_estimators=50\t roc_auc=0.6970232340493301\t time=243.78s\n"
     ]
    }
   ],
   "source": [
    "for i in range(10, 51, 10):\n",
    "    start_time = time.time()\n",
    "    cross = cross_val_score(GradientBoostingClassifier(n_estimators=i), X, y, cv=kf, scoring='roc_auc')\n",
    "    print(f'n_estimators={i}\\t roc_auc={cross.mean()}\\t time={round(time.time() - start_time, 2)}s')"
   ]
  },
  {
   "cell_type": "markdown",
   "metadata": {},
   "source": [
    "# Подход 2: логистическая регрессия"
   ]
  },
  {
   "cell_type": "code",
   "execution_count": 9,
   "metadata": {},
   "outputs": [],
   "source": [
    "scaler = StandardScaler()\n",
    "X[X.columns] = scaler.fit_transform(X)"
   ]
  },
  {
   "cell_type": "markdown",
   "metadata": {},
   "source": [
    "1. Оцените качество логистической регрессии (sklearn.linear_model.LogisticRegression с L2-регуляризацией) с помощью кросс-валидации по той же схеме, которая использовалась для градиентного бустинга. Подберите при этом лучший параметр регуляризации (C). Какое наилучшее качество у вас получилось? Как оно соотносится с качеством градиентного бустинга? Чем вы можете объяснить эту разницу? Быстрее ли работает логистическая регрессия по сравнению с градиентным бустингом?"
   ]
  },
  {
   "cell_type": "code",
   "execution_count": 10,
   "metadata": {},
   "outputs": [
    {
     "name": "stdout",
     "output_type": "stream",
     "text": [
      "C=1\t roc_aus=0.7162236308856719\t time=6.55s\n",
      "C=2\t roc_aus=0.7162236838996998\t time=4.8s\n",
      "C=3\t roc_aus=0.7162235101581969\t time=4.3s\n",
      "C=4\t roc_aus=0.7162234021174452\t time=4.79s\n",
      "C=5\t roc_aus=0.7162233597533814\t time=5.26s\n"
     ]
    }
   ],
   "source": [
    "for i in range(1, 6):\n",
    "    start_time = time.time()\n",
    "    cross = cross_val_score(LogisticRegression(penalty='l2', C=i, random_state=0),\n",
    "                            X, y, cv=kf, scoring='roc_auc')\n",
    "    print(f'C={i}\\t roc_aus={cross.mean()}\\t time={round(time.time() - start_time, 2)}s')"
   ]
  },
  {
   "cell_type": "markdown",
   "metadata": {},
   "source": [
    "Лучший параметр для L2-регуляризации - C=2"
   ]
  },
  {
   "cell_type": "markdown",
   "metadata": {},
   "source": [
    "2. Среди признаков в выборке есть категориальные, которые мы использовали как числовые, что вряд ли является хорошей идеей. Категориальных признаков в этой задаче одиннадцать: lobby_type и r1_hero, r2_hero, ..., r5_hero, d1_hero, d2_hero, ..., d5_hero. Уберите их из выборки, и проведите кросс-валидацию для логистической регрессии на новой выборке с подбором лучшего параметра регуляризации. Изменилось ли качество? Чем вы можете это объяснить"
   ]
  },
  {
   "cell_type": "code",
   "execution_count": 11,
   "metadata": {},
   "outputs": [],
   "source": [
    "categorial = ['lobby_type'] + [f'{j}{i}_hero' for i in range(1, 6) for j in ['r', 'd']]\n",
    "X.drop(categorial, axis=1, inplace=True)"
   ]
  },
  {
   "cell_type": "code",
   "execution_count": 12,
   "metadata": {},
   "outputs": [
    {
     "name": "stdout",
     "output_type": "stream",
     "text": [
      "C=1\t roc_aus=0.7162860282066865\t time=4.31s\n",
      "C=2\t roc_aus=0.716285396717854\t time=4.47s\n",
      "C=3\t roc_aus=0.7162853268716034\t time=4.06s\n",
      "C=4\t roc_aus=0.7162851174190831\t time=4.22s\n",
      "C=5\t roc_aus=0.7162853270182273\t time=3.96s\n"
     ]
    }
   ],
   "source": [
    "for i in range(1, 6):\n",
    "    start_time = time.time()\n",
    "    cross = cross_val_score(LogisticRegression(penalty='l2', C=i, random_state=0), X, y, cv=kf, scoring='roc_auc')\n",
    "    print(f'C={i}\\t roc_aus={cross.mean()}\\t time={round(time.time() - start_time, 2)}s')"
   ]
  },
  {
   "cell_type": "markdown",
   "metadata": {},
   "source": [
    "Лучшим параметром для L2-регуляризации без категориальных признаков C=1<br>\n",
    "Модель стала показывать лучшее качество, но изменения незначительны"
   ]
  },
  {
   "cell_type": "markdown",
   "metadata": {},
   "source": [
    "3. На предыдущем шаге мы исключили из выборки признаки rM_hero и dM_hero, которые показывают, какие именно герои играли за каждую команду. Это важные признаки — герои имеют разные характеристики, и некоторые из них выигрывают чаще, чем другие. Выясните из данных, сколько различных идентификаторов героев существует в данной игре (вам может пригодиться фукнция unique или value_counts)."
   ]
  },
  {
   "cell_type": "code",
   "execution_count": 13,
   "metadata": {},
   "outputs": [
    {
     "name": "stdout",
     "output_type": "stream",
     "text": [
      "Всего в игре существует 108 героев\n"
     ]
    }
   ],
   "source": [
    "all_heroes = []\n",
    "for i in categorial[1:]:\n",
    "    all_heroes += df[i].tolist()\n",
    "N = len(set(all_heroes))\n",
    "print(f'Всего в игре существует {N} героев')"
   ]
  },
  {
   "cell_type": "code",
   "execution_count": 14,
   "metadata": {},
   "outputs": [
    {
     "name": "stdout",
     "output_type": "stream",
     "text": [
      "112\n"
     ]
    }
   ],
   "source": [
    "max_num_hero = max(all_heroes)\n",
    "print(max_num_hero)"
   ]
  },
  {
   "cell_type": "markdown",
   "metadata": {},
   "source": [
    "Заметим, что герои пронумерованы не от 0 до N, поэтому будем создавать матрицу для мешка слов с shape[1] = максимальному номеру героя. Возможно, что на самом деле героев 112 (или даже ещё больше) но в матчах рассматриваемой выборки были представлены только 108"
   ]
  },
  {
   "cell_type": "markdown",
   "metadata": {},
   "source": [
    "4. Воспользуемся подходом \"мешок слов\" для кодирования информации о героях. Пусть всего в игре имеет N различных героев. Сформируем N признаков, при этом i-й будет равен нулю, если i-й герой не участвовал в матче; единице, если i-й герой играл за команду Radiant; минус единице, если i-й герой играл за команду Dire. Ниже вы можете найти код, который выполняет данной преобразование. Добавьте полученные признаки к числовым, которые вы использовали во втором пункте данного этапа."
   ]
  },
  {
   "cell_type": "code",
   "execution_count": 15,
   "metadata": {},
   "outputs": [],
   "source": [
    "X_pick = np.zeros((df.shape[0], max_num_hero))\n",
    "\n",
    "for i, match_id in enumerate(df.index):\n",
    "    for p in range(1, 6):\n",
    "        X_pick[i, df.loc[match_id, f'r{p}_hero'] - 1] = 1\n",
    "        X_pick[i, df.loc[match_id, f'd{p}_hero'] - 1] = -1\n",
    "X_pick = pd.DataFrame(X_pick)"
   ]
  },
  {
   "cell_type": "code",
   "execution_count": 16,
   "metadata": {},
   "outputs": [
    {
     "data": {
      "text/plain": [
       "(97230, 203)"
      ]
     },
     "execution_count": 16,
     "metadata": {},
     "output_type": "execute_result"
    }
   ],
   "source": [
    "X = pd.concat([X, X_pick], axis=1)\n",
    "X.shape"
   ]
  },
  {
   "cell_type": "markdown",
   "metadata": {},
   "source": [
    "5. Проведите кросс-валидацию для логистической регрессии на новой выборке с подбором лучшего параметра регуляризации. Какое получилось качество? Улучшилось ли оно? Чем вы можете это объяснить?"
   ]
  },
  {
   "cell_type": "code",
   "execution_count": 17,
   "metadata": {},
   "outputs": [
    {
     "name": "stdout",
     "output_type": "stream",
     "text": [
      "C=1\t roc_aus=0.7517384679466077\t time=17.39s\n",
      "C=2\t roc_aus=0.7517356762985568\t time=18.5s\n",
      "C=3\t roc_aus=0.751735784528859\t time=19.64s\n",
      "C=4\t roc_aus=0.7517359160734604\t time=18.03s\n",
      "C=5\t roc_aus=0.7517348329747529\t time=17.56s\n"
     ]
    }
   ],
   "source": [
    "for i in range(1, 6):\n",
    "    start_time = time.time()\n",
    "    cross = cross_val_score(LogisticRegression(penalty='l2', C=i, max_iter=500, random_state=0),\n",
    "                            X, y, cv=kf, scoring='roc_auc')\n",
    "    print(f'C={i}\\t roc_aus={cross.mean()}\\t time={round(time.time() - start_time, 2)}s')"
   ]
  },
  {
   "cell_type": "markdown",
   "metadata": {},
   "source": [
    "Лучший параметр C для данных, обработанных с помощью \"мешка слов\" - C=1"
   ]
  },
  {
   "cell_type": "markdown",
   "metadata": {},
   "source": [
    "# Обработка тестовых данных и предсказания"
   ]
  },
  {
   "cell_type": "code",
   "execution_count": 18,
   "metadata": {},
   "outputs": [
    {
     "data": {
      "text/html": [
       "<div>\n",
       "<style scoped>\n",
       "    .dataframe tbody tr th:only-of-type {\n",
       "        vertical-align: middle;\n",
       "    }\n",
       "\n",
       "    .dataframe tbody tr th {\n",
       "        vertical-align: top;\n",
       "    }\n",
       "\n",
       "    .dataframe thead th {\n",
       "        text-align: right;\n",
       "    }\n",
       "</style>\n",
       "<table border=\"1\" class=\"dataframe\">\n",
       "  <thead>\n",
       "    <tr style=\"text-align: right;\">\n",
       "      <th></th>\n",
       "      <th>start_time</th>\n",
       "      <th>r1_level</th>\n",
       "      <th>r1_xp</th>\n",
       "      <th>r1_gold</th>\n",
       "      <th>r1_lh</th>\n",
       "      <th>r1_kills</th>\n",
       "      <th>r1_deaths</th>\n",
       "      <th>r1_items</th>\n",
       "      <th>r2_level</th>\n",
       "      <th>r2_xp</th>\n",
       "      <th>...</th>\n",
       "      <th>radiant_ward_sentry_count</th>\n",
       "      <th>radiant_first_ward_time</th>\n",
       "      <th>dire_bottle_time</th>\n",
       "      <th>dire_courier_time</th>\n",
       "      <th>dire_flying_courier_time</th>\n",
       "      <th>dire_tpscroll_count</th>\n",
       "      <th>dire_boots_count</th>\n",
       "      <th>dire_ward_observer_count</th>\n",
       "      <th>dire_ward_sentry_count</th>\n",
       "      <th>dire_first_ward_time</th>\n",
       "    </tr>\n",
       "  </thead>\n",
       "  <tbody>\n",
       "    <tr>\n",
       "      <th>0</th>\n",
       "      <td>-2.528200</td>\n",
       "      <td>0.501314</td>\n",
       "      <td>-0.230161</td>\n",
       "      <td>-0.126909</td>\n",
       "      <td>-0.357459</td>\n",
       "      <td>-0.537757</td>\n",
       "      <td>1.017574</td>\n",
       "      <td>0.291758</td>\n",
       "      <td>-0.332256</td>\n",
       "      <td>-0.011207</td>\n",
       "      <td>...</td>\n",
       "      <td>-0.987486</td>\n",
       "      <td>0.478886</td>\n",
       "      <td>1.901284</td>\n",
       "      <td>-0.383372</td>\n",
       "      <td>1.152733</td>\n",
       "      <td>0.018054</td>\n",
       "      <td>0.562864</td>\n",
       "      <td>-0.551154</td>\n",
       "      <td>-0.970428</td>\n",
       "      <td>3.093932</td>\n",
       "    </tr>\n",
       "    <tr>\n",
       "      <th>1</th>\n",
       "      <td>-2.527214</td>\n",
       "      <td>-1.297676</td>\n",
       "      <td>-1.195592</td>\n",
       "      <td>-1.245180</td>\n",
       "      <td>-1.131661</td>\n",
       "      <td>-0.537757</td>\n",
       "      <td>-0.578083</td>\n",
       "      <td>0.291758</td>\n",
       "      <td>0.578881</td>\n",
       "      <td>0.008600</td>\n",
       "      <td>...</td>\n",
       "      <td>1.769891</td>\n",
       "      <td>-0.568506</td>\n",
       "      <td>0.835318</td>\n",
       "      <td>1.543833</td>\n",
       "      <td>-1.578386</td>\n",
       "      <td>0.018054</td>\n",
       "      <td>-1.167834</td>\n",
       "      <td>-0.551154</td>\n",
       "      <td>0.437788</td>\n",
       "      <td>0.564676</td>\n",
       "    </tr>\n",
       "    <tr>\n",
       "      <th>2</th>\n",
       "      <td>-2.525688</td>\n",
       "      <td>-1.297676</td>\n",
       "      <td>-0.851426</td>\n",
       "      <td>-0.732370</td>\n",
       "      <td>-1.131661</td>\n",
       "      <td>-0.537757</td>\n",
       "      <td>-0.578083</td>\n",
       "      <td>1.893320</td>\n",
       "      <td>-1.243393</td>\n",
       "      <td>-1.383288</td>\n",
       "      <td>...</td>\n",
       "      <td>0.391203</td>\n",
       "      <td>-0.389683</td>\n",
       "      <td>-0.810858</td>\n",
       "      <td>-0.443597</td>\n",
       "      <td>0.289217</td>\n",
       "      <td>-1.030561</td>\n",
       "      <td>-0.302485</td>\n",
       "      <td>0.678170</td>\n",
       "      <td>-0.970428</td>\n",
       "      <td>-0.675155</td>\n",
       "    </tr>\n",
       "    <tr>\n",
       "      <th>3</th>\n",
       "      <td>-2.521671</td>\n",
       "      <td>-0.398181</td>\n",
       "      <td>-0.927319</td>\n",
       "      <td>-0.527677</td>\n",
       "      <td>-1.131661</td>\n",
       "      <td>0.968527</td>\n",
       "      <td>1.017574</td>\n",
       "      <td>1.092539</td>\n",
       "      <td>-1.243393</td>\n",
       "      <td>-0.931329</td>\n",
       "      <td>...</td>\n",
       "      <td>1.769891</td>\n",
       "      <td>-1.079429</td>\n",
       "      <td>-1.026750</td>\n",
       "      <td>-0.564048</td>\n",
       "      <td>0.530198</td>\n",
       "      <td>0.018054</td>\n",
       "      <td>0.562864</td>\n",
       "      <td>-0.551154</td>\n",
       "      <td>0.437788</td>\n",
       "      <td>-0.476782</td>\n",
       "    </tr>\n",
       "    <tr>\n",
       "      <th>4</th>\n",
       "      <td>-2.520369</td>\n",
       "      <td>0.501314</td>\n",
       "      <td>0.045173</td>\n",
       "      <td>-1.049106</td>\n",
       "      <td>-0.799860</td>\n",
       "      <td>-0.537757</td>\n",
       "      <td>-0.578083</td>\n",
       "      <td>0.291758</td>\n",
       "      <td>1.490017</td>\n",
       "      <td>0.925122</td>\n",
       "      <td>...</td>\n",
       "      <td>-0.987486</td>\n",
       "      <td>1.091994</td>\n",
       "      <td>0.997237</td>\n",
       "      <td>-0.383372</td>\n",
       "      <td>0.228972</td>\n",
       "      <td>-1.030561</td>\n",
       "      <td>-0.302485</td>\n",
       "      <td>-0.551154</td>\n",
       "      <td>0.437788</td>\n",
       "      <td>-0.650358</td>\n",
       "    </tr>\n",
       "    <tr>\n",
       "      <th>...</th>\n",
       "      <td>...</td>\n",
       "      <td>...</td>\n",
       "      <td>...</td>\n",
       "      <td>...</td>\n",
       "      <td>...</td>\n",
       "      <td>...</td>\n",
       "      <td>...</td>\n",
       "      <td>...</td>\n",
       "      <td>...</td>\n",
       "      <td>...</td>\n",
       "      <td>...</td>\n",
       "      <td>...</td>\n",
       "      <td>...</td>\n",
       "      <td>...</td>\n",
       "      <td>...</td>\n",
       "      <td>...</td>\n",
       "      <td>...</td>\n",
       "      <td>...</td>\n",
       "      <td>...</td>\n",
       "      <td>...</td>\n",
       "      <td>...</td>\n",
       "    </tr>\n",
       "    <tr>\n",
       "      <th>17172</th>\n",
       "      <td>1.084410</td>\n",
       "      <td>1.400808</td>\n",
       "      <td>1.448314</td>\n",
       "      <td>1.708865</td>\n",
       "      <td>1.743945</td>\n",
       "      <td>-0.537757</td>\n",
       "      <td>1.017574</td>\n",
       "      <td>-0.108632</td>\n",
       "      <td>0.578881</td>\n",
       "      <td>0.487568</td>\n",
       "      <td>...</td>\n",
       "      <td>0.391203</td>\n",
       "      <td>0.376701</td>\n",
       "      <td>1.982244</td>\n",
       "      <td>-0.443597</td>\n",
       "      <td>-1.578386</td>\n",
       "      <td>0.542361</td>\n",
       "      <td>-0.302485</td>\n",
       "      <td>-0.551154</td>\n",
       "      <td>0.437788</td>\n",
       "      <td>-0.650358</td>\n",
       "    </tr>\n",
       "    <tr>\n",
       "      <th>17173</th>\n",
       "      <td>1.086240</td>\n",
       "      <td>-0.398181</td>\n",
       "      <td>-0.856720</td>\n",
       "      <td>-1.169767</td>\n",
       "      <td>-1.131661</td>\n",
       "      <td>-0.537757</td>\n",
       "      <td>-0.578083</td>\n",
       "      <td>1.492930</td>\n",
       "      <td>-0.332256</td>\n",
       "      <td>-0.106640</td>\n",
       "      <td>...</td>\n",
       "      <td>0.391203</td>\n",
       "      <td>0.146786</td>\n",
       "      <td>0.363054</td>\n",
       "      <td>-0.323147</td>\n",
       "      <td>0.269135</td>\n",
       "      <td>-0.506253</td>\n",
       "      <td>-0.302485</td>\n",
       "      <td>1.907494</td>\n",
       "      <td>0.437788</td>\n",
       "      <td>-0.278409</td>\n",
       "    </tr>\n",
       "    <tr>\n",
       "      <th>17174</th>\n",
       "      <td>1.086370</td>\n",
       "      <td>-1.297676</td>\n",
       "      <td>-1.162058</td>\n",
       "      <td>-1.398161</td>\n",
       "      <td>-1.242261</td>\n",
       "      <td>-0.537757</td>\n",
       "      <td>-0.578083</td>\n",
       "      <td>-0.108632</td>\n",
       "      <td>-0.332256</td>\n",
       "      <td>-0.886314</td>\n",
       "      <td>...</td>\n",
       "      <td>-0.987486</td>\n",
       "      <td>0.683255</td>\n",
       "      <td>0.363054</td>\n",
       "      <td>-0.503822</td>\n",
       "      <td>0.821384</td>\n",
       "      <td>0.542361</td>\n",
       "      <td>0.562864</td>\n",
       "      <td>1.907494</td>\n",
       "      <td>-0.970428</td>\n",
       "      <td>-0.724748</td>\n",
       "    </tr>\n",
       "    <tr>\n",
       "      <th>17175</th>\n",
       "      <td>1.090210</td>\n",
       "      <td>0.501314</td>\n",
       "      <td>1.077673</td>\n",
       "      <td>0.060547</td>\n",
       "      <td>-0.357459</td>\n",
       "      <td>0.968527</td>\n",
       "      <td>2.613231</td>\n",
       "      <td>-0.108632</td>\n",
       "      <td>-0.332256</td>\n",
       "      <td>-0.317314</td>\n",
       "      <td>...</td>\n",
       "      <td>-0.987486</td>\n",
       "      <td>-0.542960</td>\n",
       "      <td>-1.431548</td>\n",
       "      <td>-0.202697</td>\n",
       "      <td>-1.578386</td>\n",
       "      <td>-1.030561</td>\n",
       "      <td>0.562864</td>\n",
       "      <td>-1.780478</td>\n",
       "      <td>-0.970428</td>\n",
       "      <td>0.167930</td>\n",
       "    </tr>\n",
       "    <tr>\n",
       "      <th>17176</th>\n",
       "      <td>1.092143</td>\n",
       "      <td>0.501314</td>\n",
       "      <td>-0.032485</td>\n",
       "      <td>0.338499</td>\n",
       "      <td>0.195542</td>\n",
       "      <td>-0.537757</td>\n",
       "      <td>-0.578083</td>\n",
       "      <td>0.692149</td>\n",
       "      <td>1.490017</td>\n",
       "      <td>1.220426</td>\n",
       "      <td>...</td>\n",
       "      <td>1.769891</td>\n",
       "      <td>1.143086</td>\n",
       "      <td>0.241615</td>\n",
       "      <td>-0.142472</td>\n",
       "      <td>0.921792</td>\n",
       "      <td>0.542361</td>\n",
       "      <td>-1.167834</td>\n",
       "      <td>-0.551154</td>\n",
       "      <td>-0.970428</td>\n",
       "      <td>0.837439</td>\n",
       "    </tr>\n",
       "  </tbody>\n",
       "</table>\n",
       "<p>17177 rows × 91 columns</p>\n",
       "</div>"
      ],
      "text/plain": [
       "       start_time  r1_level     r1_xp   r1_gold     r1_lh  r1_kills  \\\n",
       "0       -2.528200  0.501314 -0.230161 -0.126909 -0.357459 -0.537757   \n",
       "1       -2.527214 -1.297676 -1.195592 -1.245180 -1.131661 -0.537757   \n",
       "2       -2.525688 -1.297676 -0.851426 -0.732370 -1.131661 -0.537757   \n",
       "3       -2.521671 -0.398181 -0.927319 -0.527677 -1.131661  0.968527   \n",
       "4       -2.520369  0.501314  0.045173 -1.049106 -0.799860 -0.537757   \n",
       "...           ...       ...       ...       ...       ...       ...   \n",
       "17172    1.084410  1.400808  1.448314  1.708865  1.743945 -0.537757   \n",
       "17173    1.086240 -0.398181 -0.856720 -1.169767 -1.131661 -0.537757   \n",
       "17174    1.086370 -1.297676 -1.162058 -1.398161 -1.242261 -0.537757   \n",
       "17175    1.090210  0.501314  1.077673  0.060547 -0.357459  0.968527   \n",
       "17176    1.092143  0.501314 -0.032485  0.338499  0.195542 -0.537757   \n",
       "\n",
       "       r1_deaths  r1_items  r2_level     r2_xp  ...  \\\n",
       "0       1.017574  0.291758 -0.332256 -0.011207  ...   \n",
       "1      -0.578083  0.291758  0.578881  0.008600  ...   \n",
       "2      -0.578083  1.893320 -1.243393 -1.383288  ...   \n",
       "3       1.017574  1.092539 -1.243393 -0.931329  ...   \n",
       "4      -0.578083  0.291758  1.490017  0.925122  ...   \n",
       "...          ...       ...       ...       ...  ...   \n",
       "17172   1.017574 -0.108632  0.578881  0.487568  ...   \n",
       "17173  -0.578083  1.492930 -0.332256 -0.106640  ...   \n",
       "17174  -0.578083 -0.108632 -0.332256 -0.886314  ...   \n",
       "17175   2.613231 -0.108632 -0.332256 -0.317314  ...   \n",
       "17176  -0.578083  0.692149  1.490017  1.220426  ...   \n",
       "\n",
       "       radiant_ward_sentry_count  radiant_first_ward_time  dire_bottle_time  \\\n",
       "0                      -0.987486                 0.478886          1.901284   \n",
       "1                       1.769891                -0.568506          0.835318   \n",
       "2                       0.391203                -0.389683         -0.810858   \n",
       "3                       1.769891                -1.079429         -1.026750   \n",
       "4                      -0.987486                 1.091994          0.997237   \n",
       "...                          ...                      ...               ...   \n",
       "17172                   0.391203                 0.376701          1.982244   \n",
       "17173                   0.391203                 0.146786          0.363054   \n",
       "17174                  -0.987486                 0.683255          0.363054   \n",
       "17175                  -0.987486                -0.542960         -1.431548   \n",
       "17176                   1.769891                 1.143086          0.241615   \n",
       "\n",
       "       dire_courier_time  dire_flying_courier_time  dire_tpscroll_count  \\\n",
       "0              -0.383372                  1.152733             0.018054   \n",
       "1               1.543833                 -1.578386             0.018054   \n",
       "2              -0.443597                  0.289217            -1.030561   \n",
       "3              -0.564048                  0.530198             0.018054   \n",
       "4              -0.383372                  0.228972            -1.030561   \n",
       "...                  ...                       ...                  ...   \n",
       "17172          -0.443597                 -1.578386             0.542361   \n",
       "17173          -0.323147                  0.269135            -0.506253   \n",
       "17174          -0.503822                  0.821384             0.542361   \n",
       "17175          -0.202697                 -1.578386            -1.030561   \n",
       "17176          -0.142472                  0.921792             0.542361   \n",
       "\n",
       "       dire_boots_count  dire_ward_observer_count  dire_ward_sentry_count  \\\n",
       "0              0.562864                 -0.551154               -0.970428   \n",
       "1             -1.167834                 -0.551154                0.437788   \n",
       "2             -0.302485                  0.678170               -0.970428   \n",
       "3              0.562864                 -0.551154                0.437788   \n",
       "4             -0.302485                 -0.551154                0.437788   \n",
       "...                 ...                       ...                     ...   \n",
       "17172         -0.302485                 -0.551154                0.437788   \n",
       "17173         -0.302485                  1.907494                0.437788   \n",
       "17174          0.562864                  1.907494               -0.970428   \n",
       "17175          0.562864                 -1.780478               -0.970428   \n",
       "17176         -1.167834                 -0.551154               -0.970428   \n",
       "\n",
       "       dire_first_ward_time  \n",
       "0                  3.093932  \n",
       "1                  0.564676  \n",
       "2                 -0.675155  \n",
       "3                 -0.476782  \n",
       "4                 -0.650358  \n",
       "...                     ...  \n",
       "17172             -0.650358  \n",
       "17173             -0.278409  \n",
       "17174             -0.724748  \n",
       "17175              0.167930  \n",
       "17176              0.837439  \n",
       "\n",
       "[17177 rows x 91 columns]"
      ]
     },
     "execution_count": 18,
     "metadata": {},
     "output_type": "execute_result"
    }
   ],
   "source": [
    "df_test = pd.read_csv('features_test.zip', index_col='match_id')\n",
    "X_test = df_test.fillna(0).reset_index().drop('match_id', axis=1)\n",
    "X_test[X_test.columns] = scaler.transform(X_test)\n",
    "X_test.drop(categorial, axis=1, inplace=True)\n",
    "X_test"
   ]
  },
  {
   "cell_type": "markdown",
   "metadata": {},
   "source": [
    "Проверим не появились ли в тестовой выборке новые герои:"
   ]
  },
  {
   "cell_type": "code",
   "execution_count": 19,
   "metadata": {},
   "outputs": [],
   "source": [
    "all_test = []\n",
    "for i in categorial[1:]:\n",
    "    all_test += df_test[i].tolist()\n",
    "for i in all_test:\n",
    "    if not i in all_heroes:\n",
    "        print('В тестовой выборке есть новые герои!')"
   ]
  },
  {
   "cell_type": "markdown",
   "metadata": {},
   "source": [
    "Новые герои отсутствуют"
   ]
  },
  {
   "cell_type": "code",
   "execution_count": 20,
   "metadata": {},
   "outputs": [
    {
     "data": {
      "text/plain": [
       "True"
      ]
     },
     "execution_count": 20,
     "metadata": {},
     "output_type": "execute_result"
    }
   ],
   "source": [
    "max(all_test) == max(all_heroes)"
   ]
  },
  {
   "cell_type": "markdown",
   "metadata": {},
   "source": [
    "Заметим, что максимальный номер героя также совпадает в тестовой и тренировочной выборках"
   ]
  },
  {
   "cell_type": "code",
   "execution_count": 21,
   "metadata": {},
   "outputs": [],
   "source": [
    "max_num_hero = max(all_heroes)\n",
    "X_pick_test = np.zeros((df_test.shape[0], max_num_hero))\n",
    "\n",
    "for i, match_id in enumerate(df_test.index):\n",
    "    for p in range(1, 6):\n",
    "        X_pick_test[i, df_test.loc[match_id, f'r{p}_hero'] - 1] = 1\n",
    "        X_pick_test[i, df_test.loc[match_id, f'd{p}_hero'] - 1] = -1\n",
    "X_pick_test = pd.DataFrame(X_pick_test)"
   ]
  },
  {
   "cell_type": "code",
   "execution_count": 22,
   "metadata": {},
   "outputs": [
    {
     "data": {
      "text/plain": [
       "(17177, 203)"
      ]
     },
     "execution_count": 22,
     "metadata": {},
     "output_type": "execute_result"
    }
   ],
   "source": [
    "X_test = pd.concat([X_test, X_pick_test], axis=1)\n",
    "X_test.shape"
   ]
  },
  {
   "cell_type": "code",
   "execution_count": 23,
   "metadata": {},
   "outputs": [],
   "source": [
    "clf_log = LogisticRegression(penalty='l2', C=1, max_iter=500)\n",
    "clf_log.fit(X, y);"
   ]
  },
  {
   "cell_type": "code",
   "execution_count": 24,
   "metadata": {},
   "outputs": [],
   "source": [
    "pred = clf_log.predict_proba(X_test)"
   ]
  },
  {
   "cell_type": "code",
   "execution_count": 25,
   "metadata": {},
   "outputs": [
    {
     "name": "stdout",
     "output_type": "stream",
     "text": [
      "Минимальное значение прогноза на тестовой выборке для класса 0: 0.0035684007651590743\n",
      "Максимальное значение прогноза на тестовой выборке для класса 0: 0.9915429219332391\n",
      "\n",
      "Минимальное значение прогноза на тестовой выборке для класса 1: 0.0084570780667609\n",
      "Максимальное значение прогноза на тестовой выборке для класса 1: 0.9964315992348409\n",
      "\n",
      "Минимальное значение для всех классов: 0.0035684007651590743\n",
      "Максимальное значение для всех классов: 0.9964315992348409\n"
     ]
    }
   ],
   "source": [
    "for i in [0, 1]:\n",
    "    print(f'Минимальное значение прогноза на тестовой выборке для класса {i}: {pred[:, i].min()}')\n",
    "    print(f'Максимальное значение прогноза на тестовой выборке для класса {i}: {pred[:, i].max()}\\n')\n",
    "print(f'Минимальное значение для всех классов: {pred.min()}')\n",
    "print(f'Максимальное значение для всех классов: {pred.max()}')"
   ]
  }
 ],
 "metadata": {
  "kernelspec": {
   "display_name": "Python 3",
   "language": "python",
   "name": "python3"
  },
  "language_info": {
   "codemirror_mode": {
    "name": "ipython",
    "version": 3
   },
   "file_extension": ".py",
   "mimetype": "text/x-python",
   "name": "python",
   "nbconvert_exporter": "python",
   "pygments_lexer": "ipython3",
   "version": "3.8.3"
  }
 },
 "nbformat": 4,
 "nbformat_minor": 4
}
